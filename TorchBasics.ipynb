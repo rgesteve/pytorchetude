{
 "cells": [
  {
   "cell_type": "code",
   "execution_count": 8,
   "metadata": {},
   "outputs": [],
   "source": [
    "import torch\n",
    "import torch.nn as nn\n",
    "import torch.nn.functional as F\n",
    "import torch.onnx\n",
    "\n",
    "import numpy as np\n",
    "\n",
    "import onnxmltools\n",
    "import frontmatter as fm"
   ]
  },
  {
   "cell_type": "markdown",
   "metadata": {},
   "source": [
    "`nn.Linear` encodes the computation $y = x A^T + b$, where the parameters passed to the `nn.Linear` constructor is the *shape* of $A$."
   ]
  },
  {
   "cell_type": "code",
   "execution_count": 2,
   "metadata": {},
   "outputs": [],
   "source": [
    "m = nn.Linear(20,30)"
   ]
  },
  {
   "cell_type": "code",
   "execution_count": 3,
   "metadata": {},
   "outputs": [],
   "source": [
    "input = torch.randn(128, 20)"
   ]
  },
  {
   "cell_type": "code",
   "execution_count": null,
   "metadata": {},
   "outputs": [],
   "source": [
    "output = m(input)\n",
    "output.size()"
   ]
  },
  {
   "cell_type": "code",
   "execution_count": 4,
   "metadata": {},
   "outputs": [
    {
     "name": "stdout",
     "output_type": "stream",
     "text": [
      "graph(%input_0 : Float(128, 20, strides=[20, 1], requires_grad=0, device=cpu),\n",
      "      %weight : Float(30, 20, strides=[20, 1], requires_grad=1, device=cpu),\n",
      "      %bias : Float(30, strides=[1], requires_grad=1, device=cpu)):\n",
      "  %output_0 : Float(128, 30, strides=[30, 1], requires_grad=1, device=cpu) = onnx::Gemm[alpha=1., beta=1., transB=1](%input_0, %weight, %bias) # /opt/conda/lib/python3.9/site-packages/torch/nn/functional.py:1753:0\n",
      "  return (%output_0)\n",
      "\n"
     ]
    }
   ],
   "source": [
    "input_names = [ \"input_0\" ]\n",
    "output_names = [ \"output_0\" ]\n",
    "\n",
    "torch.onnx.export(m, input, 'trivial.onnx', verbose=True, # `verbose` outputs to stdout\n",
    "                  input_names=input_names, output_names=output_names)"
   ]
  },
  {
   "cell_type": "code",
   "execution_count": 2,
   "metadata": {},
   "outputs": [],
   "source": [
    "class Trivial(nn.Module):\n",
    "    def __init__(self):\n",
    "        super(Trivial, self).__init__()\n",
    "        self.lin1 = nn.Linear(1000, 100)\n",
    "        self.lin2 = nn.Linear(100, 10)\n",
    "    def forward(self, input):\n",
    "        x = self.lin1(input)\n",
    "        y = F.relu(x)\n",
    "        return self.lin2(y)"
   ]
  },
  {
   "cell_type": "code",
   "execution_count": 3,
   "metadata": {},
   "outputs": [],
   "source": [
    "input_names = [ \"input_0\" ]\n",
    "output_names = [ \"output_0\" ]\n",
    "\n",
    "t = Trivial()\n",
    "input = torch.randn(1000)\n",
    "\n",
    "torch.onnx.export(t, input, 'trivial.onnx', input_names=input_names, output_names=output_names)"
   ]
  },
  {
   "cell_type": "code",
   "execution_count": 5,
   "metadata": {},
   "outputs": [],
   "source": [
    "deser_model = onnxmltools.load_model(\"trivial.onnx\")"
   ]
  },
  {
   "cell_type": "code",
   "execution_count": 6,
   "metadata": {},
   "outputs": [
    {
     "data": {
      "text/plain": [
       "onnx.onnx_ml_pb2.ModelProto"
      ]
     },
     "execution_count": 6,
     "metadata": {},
     "output_type": "execute_result"
    }
   ],
   "source": [
    "type(deser_model)"
   ]
  },
  {
   "cell_type": "code",
   "execution_count": 7,
   "metadata": {},
   "outputs": [
    {
     "data": {
      "text/plain": [
       "key: \"version\"\n",
       "value: \"0.0.1\""
      ]
     },
     "execution_count": 7,
     "metadata": {},
     "output_type": "execute_result"
    }
   ],
   "source": [
    "meta = deser_model.metadata_props.add()\n",
    "meta.key = \"version\"\n",
    "meta.value = \"0.0.1\"\n",
    "deser_model.metadata_props[0]"
   ]
  },
  {
   "cell_type": "code",
   "execution_count": 9,
   "metadata": {},
   "outputs": [
    {
     "name": "stderr",
     "output_type": "stream",
     "text": [
      "/opt/conda/lib/python3.9/site-packages/frontmatter/__init__.py:37: YAMLLoadWarning: calling yaml.load() without Loader=... is deprecated, as the default Loader is unsafe. Please read https://msg.pyyaml.org/load for full details.\n",
      "  \"attributes\": yaml.load(fmatter),\n"
     ]
    }
   ],
   "source": [
    "# assuming 'testfile.md' exists\n",
    "post = fm.Frontmatter.read_file('testfile.md')"
   ]
  },
  {
   "cell_type": "code",
   "execution_count": 10,
   "metadata": {},
   "outputs": [
    {
     "data": {
      "text/plain": [
       "{'title': 'Third Post', 'date': 'Oct 8, 2018 5:26pm PST'}"
      ]
     },
     "execution_count": 10,
     "metadata": {},
     "output_type": "execute_result"
    }
   ],
   "source": [
    "# Read a dictionary\n",
    "post['attributes']\n",
    "#print(post['body'], \"\\n\")        # String\n",
    "#print(post['frontmatter'])       # String"
   ]
  },
  {
   "cell_type": "code",
   "execution_count": 11,
   "metadata": {},
   "outputs": [],
   "source": [
    "with open('testfile.md', 'r') as f:\n",
    "    mdtxt = f.read()"
   ]
  },
  {
   "cell_type": "code",
   "execution_count": 14,
   "metadata": {},
   "outputs": [],
   "source": [
    "modelcard_meta = deser_model.metadata_props.add()"
   ]
  },
  {
   "cell_type": "code",
   "execution_count": 15,
   "metadata": {},
   "outputs": [],
   "source": [
    "modelcard_meta.key = \"model_card\"\n",
    "modelcard_meta.value = mdtxt"
   ]
  },
  {
   "cell_type": "code",
   "execution_count": 16,
   "metadata": {},
   "outputs": [],
   "source": [
    "onnxmltools.utils.save_model(deser_model, \"trivial_1.onnx\")"
   ]
  },
  {
   "cell_type": "code",
   "execution_count": null,
   "metadata": {},
   "outputs": [],
   "source": []
  }
 ],
 "metadata": {
  "interpreter": {
   "hash": "d4d1e4263499bec80672ea0156c357c1ee493ec2b1c70f0acce89fc37c4a6abe"
  },
  "kernelspec": {
   "display_name": "Python 3.9.5 64-bit ('base': conda)",
   "language": "python",
   "name": "python3"
  },
  "language_info": {
   "codemirror_mode": {
    "name": "ipython",
    "version": 3
   },
   "file_extension": ".py",
   "mimetype": "text/x-python",
   "name": "python",
   "nbconvert_exporter": "python",
   "pygments_lexer": "ipython3",
   "version": "3.9.5"
  },
  "orig_nbformat": 4
 },
 "nbformat": 4,
 "nbformat_minor": 2
}
