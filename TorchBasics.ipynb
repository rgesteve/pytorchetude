{
 "cells": [
  {
   "cell_type": "code",
   "execution_count": 1,
   "metadata": {},
   "outputs": [],
   "source": [
    "import torch\n",
    "import torch.nn as nn\n",
    "import torch.nn.functional as F\n",
    "import torch.onnx\n",
    "\n",
    "import numpy as np"
   ]
  },
  {
   "cell_type": "markdown",
   "metadata": {},
   "source": [
    "`nn.Linear` encodes the computation $y = x A^T + b$, where the parameters passed to the `nn.Linear` constructor is the *shape* of $A$."
   ]
  },
  {
   "cell_type": "code",
   "execution_count": 2,
   "metadata": {},
   "outputs": [],
   "source": [
    "m = nn.Linear(20,30)"
   ]
  },
  {
   "cell_type": "code",
   "execution_count": null,
   "metadata": {},
   "outputs": [],
   "source": [
    "input = torch.randn(128, 20)"
   ]
  },
  {
   "cell_type": "code",
   "execution_count": null,
   "metadata": {},
   "outputs": [],
   "source": [
    "output = m(input)\n",
    "output.size()"
   ]
  },
  {
   "cell_type": "code",
   "execution_count": 5,
   "metadata": {},
   "outputs": [
    {
     "name": "stdout",
     "output_type": "stream",
     "text": [
      "graph(%input_0 : Float(128, 20, strides=[20, 1], requires_grad=0, device=cpu),\n",
      "      %weight : Float(30, 20, strides=[20, 1], requires_grad=1, device=cpu),\n",
      "      %bias : Float(30, strides=[1], requires_grad=1, device=cpu)):\n",
      "  %output_0 : Float(128, 30, strides=[30, 1], requires_grad=1, device=cpu) = onnx::Gemm[alpha=1., beta=1., transB=1](%input_0, %weight, %bias) # /opt/conda/lib/python3.9/site-packages/torch/nn/functional.py:1753:0\n",
      "  return (%output_0)\n",
      "\n"
     ]
    }
   ],
   "source": [
    "input_names = [ \"input_0\" ]\n",
    "output_names = [ \"output_0\" ]\n",
    "\n",
    "torch.onnx.export(m, input, 'trivial.onnx', verbose=True, # `verbose` outputs to stdout\n",
    "                  input_names=input_names, output_names=output_names)"
   ]
  },
  {
   "cell_type": "code",
   "execution_count": 2,
   "metadata": {},
   "outputs": [],
   "source": [
    "class Trivial(nn.Module):\n",
    "    def __init__(self):\n",
    "        super(Trivial, self).__init__()\n",
    "        self.lin1 = nn.Linear(1000, 100)\n",
    "        self.lin2 = nn.Linear(100, 10)\n",
    "    def forward(self, input):\n",
    "        x = self.lin1(input)\n",
    "        y = F.relu(x)\n",
    "        return self.lin2(y)"
   ]
  },
  {
   "cell_type": "code",
   "execution_count": 3,
   "metadata": {},
   "outputs": [],
   "source": [
    "input_names = [ \"input_0\" ]\n",
    "output_names = [ \"output_0\" ]\n",
    "\n",
    "t = Trivial()\n",
    "input = torch.randn(1000)\n",
    "\n",
    "torch.onnx.export(t, input, 'trivial.onnx', input_names=input_names, output_names=output_names)"
   ]
  },
  {
   "cell_type": "code",
   "execution_count": null,
   "metadata": {},
   "outputs": [],
   "source": []
  }
 ],
 "metadata": {
  "interpreter": {
   "hash": "d4d1e4263499bec80672ea0156c357c1ee493ec2b1c70f0acce89fc37c4a6abe"
  },
  "kernelspec": {
   "display_name": "Python 3.9.5 64-bit ('base': conda)",
   "language": "python",
   "name": "python3"
  },
  "language_info": {
   "codemirror_mode": {
    "name": "ipython",
    "version": 3
   },
   "file_extension": ".py",
   "mimetype": "text/x-python",
   "name": "python",
   "nbconvert_exporter": "python",
   "pygments_lexer": "ipython3",
   "version": "3.9.5"
  },
  "orig_nbformat": 4
 },
 "nbformat": 4,
 "nbformat_minor": 2
}
